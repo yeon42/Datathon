{
 "cells": [
  {
   "cell_type": "code",
   "execution_count": 2,
   "id": "3c3a900b",
   "metadata": {},
   "outputs": [],
   "source": [
    "import numpy as np\n",
    "import pandas as pd\n",
    "import math\n",
    "import os\n",
    "import matplotlib.pyplot as plt"
   ]
  },
  {
   "cell_type": "code",
   "execution_count": 3,
   "id": "73309e08",
   "metadata": {},
   "outputs": [],
   "source": [
    "train_file = os.getenv('HOME') + '/aiffel/datathon/train.csv'\n",
    "test_file = os.getenv('HOME') + '/aiffel/datathon/test.csv'\n",
    "\n",
    "df_train = pd.read_csv(train_file, encoding='cp949')\n",
    "df_test = pd.read_csv(test_file, encoding='cp949')\n",
    "# submission = pd.read_csv('../datathon/sample_submission.csv')"
   ]
  },
  {
   "cell_type": "code",
   "execution_count": 4,
   "id": "1288e81f",
   "metadata": {},
   "outputs": [],
   "source": [
    "train = df_train.copy()\n",
    "test = df_test.copy()"
   ]
  },
  {
   "cell_type": "code",
   "execution_count": 5,
   "id": "19657973",
   "metadata": {},
   "outputs": [],
   "source": [
    "# 한글 열 이름 변경\n",
    "cols = [\"num\", \"date_time\", \"energy\", \"temp\", \"windspeed\", \"humidity\", \"precipitation\", \"sun\", \"cooler\", \"solar\"]\n",
    "cols2 = [\"num\", \"date_time\", \"temp\", \"windspeed\", \"humidity\", \"precipitation\", \"sun\", \"cooler\", \"solar\"]\n",
    "\n",
    "train.columns = cols\n",
    "test.columns = cols2"
   ]
  },
  {
   "cell_type": "code",
   "execution_count": 6,
   "id": "8da6d0e6",
   "metadata": {},
   "outputs": [],
   "source": [
    "for col in ['temp','windspeed','humidity','precipitation','sun']:\n",
    "    test[col] = test[col].interpolate(method='linear')"
   ]
  },
  {
   "cell_type": "code",
   "execution_count": 7,
   "id": "e3ca77ca",
   "metadata": {},
   "outputs": [],
   "source": [
    "test = test.fillna(0)"
   ]
  },
  {
   "cell_type": "code",
   "execution_count": 8,
   "id": "ca8892cf",
   "metadata": {},
   "outputs": [
    {
     "data": {
      "text/html": [
       "<div>\n",
       "<style scoped>\n",
       "    .dataframe tbody tr th:only-of-type {\n",
       "        vertical-align: middle;\n",
       "    }\n",
       "\n",
       "    .dataframe tbody tr th {\n",
       "        vertical-align: top;\n",
       "    }\n",
       "\n",
       "    .dataframe thead th {\n",
       "        text-align: right;\n",
       "    }\n",
       "</style>\n",
       "<table border=\"1\" class=\"dataframe\">\n",
       "  <thead>\n",
       "    <tr style=\"text-align: right;\">\n",
       "      <th></th>\n",
       "      <th>num</th>\n",
       "      <th>date_time</th>\n",
       "      <th>energy</th>\n",
       "      <th>temp</th>\n",
       "      <th>windspeed</th>\n",
       "      <th>humidity</th>\n",
       "      <th>precipitation</th>\n",
       "      <th>sun</th>\n",
       "      <th>cooler</th>\n",
       "      <th>solar</th>\n",
       "      <th>date</th>\n",
       "      <th>month</th>\n",
       "      <th>day</th>\n",
       "      <th>hour</th>\n",
       "      <th>weekday</th>\n",
       "      <th>weekend</th>\n",
       "    </tr>\n",
       "  </thead>\n",
       "  <tbody>\n",
       "    <tr>\n",
       "      <th>0</th>\n",
       "      <td>1</td>\n",
       "      <td>2020-06-01 00:00:00</td>\n",
       "      <td>8179.056</td>\n",
       "      <td>17.6</td>\n",
       "      <td>2.5</td>\n",
       "      <td>92.0</td>\n",
       "      <td>0.8</td>\n",
       "      <td>0.0</td>\n",
       "      <td>0.0</td>\n",
       "      <td>0.0</td>\n",
       "      <td>2020-06-01</td>\n",
       "      <td>6</td>\n",
       "      <td>1</td>\n",
       "      <td>0</td>\n",
       "      <td>0</td>\n",
       "      <td>0</td>\n",
       "    </tr>\n",
       "    <tr>\n",
       "      <th>1</th>\n",
       "      <td>1</td>\n",
       "      <td>2020-06-01 01:00:00</td>\n",
       "      <td>8135.640</td>\n",
       "      <td>17.7</td>\n",
       "      <td>2.9</td>\n",
       "      <td>91.0</td>\n",
       "      <td>0.3</td>\n",
       "      <td>0.0</td>\n",
       "      <td>0.0</td>\n",
       "      <td>0.0</td>\n",
       "      <td>2020-06-01</td>\n",
       "      <td>6</td>\n",
       "      <td>1</td>\n",
       "      <td>1</td>\n",
       "      <td>0</td>\n",
       "      <td>0</td>\n",
       "    </tr>\n",
       "    <tr>\n",
       "      <th>2</th>\n",
       "      <td>1</td>\n",
       "      <td>2020-06-01 02:00:00</td>\n",
       "      <td>8107.128</td>\n",
       "      <td>17.5</td>\n",
       "      <td>3.2</td>\n",
       "      <td>91.0</td>\n",
       "      <td>0.0</td>\n",
       "      <td>0.0</td>\n",
       "      <td>0.0</td>\n",
       "      <td>0.0</td>\n",
       "      <td>2020-06-01</td>\n",
       "      <td>6</td>\n",
       "      <td>1</td>\n",
       "      <td>2</td>\n",
       "      <td>0</td>\n",
       "      <td>0</td>\n",
       "    </tr>\n",
       "    <tr>\n",
       "      <th>3</th>\n",
       "      <td>1</td>\n",
       "      <td>2020-06-01 03:00:00</td>\n",
       "      <td>8048.808</td>\n",
       "      <td>17.1</td>\n",
       "      <td>3.2</td>\n",
       "      <td>91.0</td>\n",
       "      <td>0.0</td>\n",
       "      <td>0.0</td>\n",
       "      <td>0.0</td>\n",
       "      <td>0.0</td>\n",
       "      <td>2020-06-01</td>\n",
       "      <td>6</td>\n",
       "      <td>1</td>\n",
       "      <td>3</td>\n",
       "      <td>0</td>\n",
       "      <td>0</td>\n",
       "    </tr>\n",
       "    <tr>\n",
       "      <th>4</th>\n",
       "      <td>1</td>\n",
       "      <td>2020-06-01 04:00:00</td>\n",
       "      <td>8043.624</td>\n",
       "      <td>17.0</td>\n",
       "      <td>3.3</td>\n",
       "      <td>92.0</td>\n",
       "      <td>0.0</td>\n",
       "      <td>0.0</td>\n",
       "      <td>0.0</td>\n",
       "      <td>0.0</td>\n",
       "      <td>2020-06-01</td>\n",
       "      <td>6</td>\n",
       "      <td>1</td>\n",
       "      <td>4</td>\n",
       "      <td>0</td>\n",
       "      <td>0</td>\n",
       "    </tr>\n",
       "  </tbody>\n",
       "</table>\n",
       "</div>"
      ],
      "text/plain": [
       "   num           date_time    energy  temp  windspeed  humidity  \\\n",
       "0    1 2020-06-01 00:00:00  8179.056  17.6        2.5      92.0   \n",
       "1    1 2020-06-01 01:00:00  8135.640  17.7        2.9      91.0   \n",
       "2    1 2020-06-01 02:00:00  8107.128  17.5        3.2      91.0   \n",
       "3    1 2020-06-01 03:00:00  8048.808  17.1        3.2      91.0   \n",
       "4    1 2020-06-01 04:00:00  8043.624  17.0        3.3      92.0   \n",
       "\n",
       "   precipitation  sun  cooler  solar        date  month  day  hour  weekday  \\\n",
       "0            0.8  0.0     0.0    0.0  2020-06-01      6    1     0        0   \n",
       "1            0.3  0.0     0.0    0.0  2020-06-01      6    1     1        0   \n",
       "2            0.0  0.0     0.0    0.0  2020-06-01      6    1     2        0   \n",
       "3            0.0  0.0     0.0    0.0  2020-06-01      6    1     3        0   \n",
       "4            0.0  0.0     0.0    0.0  2020-06-01      6    1     4        0   \n",
       "\n",
       "   weekend  \n",
       "0        0  \n",
       "1        0  \n",
       "2        0  \n",
       "3        0  \n",
       "4        0  "
      ]
     },
     "execution_count": 8,
     "metadata": {},
     "output_type": "execute_result"
    }
   ],
   "source": [
    "train[\"date_time\"] = pd.to_datetime(train[\"date_time\"])\n",
    "\n",
    "train[\"date\"] = train[\"date_time\"].dt.date # 전체 날짜\n",
    "train[\"month\"] = train[\"date_time\"].dt.month # 월\n",
    "train[\"day\"] = train[\"date_time\"].dt.day # 일\n",
    "train[\"hour\"] = train[\"date_time\"].dt.hour\n",
    "train[\"weekday\"] = train[\"date_time\"].dt.weekday # 0: 월요일\n",
    "train[\"weekend\"] = train[\"weekday\"].isin([5, 6]).astype(int) # 5: 토요일\n",
    "\n",
    "train.head()"
   ]
  },
  {
   "cell_type": "code",
   "execution_count": 9,
   "id": "bdf629ca",
   "metadata": {},
   "outputs": [
    {
     "data": {
      "text/html": [
       "<div>\n",
       "<style scoped>\n",
       "    .dataframe tbody tr th:only-of-type {\n",
       "        vertical-align: middle;\n",
       "    }\n",
       "\n",
       "    .dataframe tbody tr th {\n",
       "        vertical-align: top;\n",
       "    }\n",
       "\n",
       "    .dataframe thead th {\n",
       "        text-align: right;\n",
       "    }\n",
       "</style>\n",
       "<table border=\"1\" class=\"dataframe\">\n",
       "  <thead>\n",
       "    <tr style=\"text-align: right;\">\n",
       "      <th></th>\n",
       "      <th>num</th>\n",
       "      <th>date_time</th>\n",
       "      <th>temp</th>\n",
       "      <th>windspeed</th>\n",
       "      <th>humidity</th>\n",
       "      <th>precipitation</th>\n",
       "      <th>sun</th>\n",
       "      <th>cooler</th>\n",
       "      <th>solar</th>\n",
       "      <th>date</th>\n",
       "      <th>month</th>\n",
       "      <th>day</th>\n",
       "      <th>hour</th>\n",
       "      <th>weekday</th>\n",
       "      <th>weekend</th>\n",
       "    </tr>\n",
       "  </thead>\n",
       "  <tbody>\n",
       "    <tr>\n",
       "      <th>0</th>\n",
       "      <td>1</td>\n",
       "      <td>2020-08-25 00:00:00</td>\n",
       "      <td>27.800000</td>\n",
       "      <td>1.500000</td>\n",
       "      <td>74.000000</td>\n",
       "      <td>0.0</td>\n",
       "      <td>0.0</td>\n",
       "      <td>0.0</td>\n",
       "      <td>0.0</td>\n",
       "      <td>2020-08-25</td>\n",
       "      <td>8</td>\n",
       "      <td>25</td>\n",
       "      <td>0</td>\n",
       "      <td>1</td>\n",
       "      <td>0</td>\n",
       "    </tr>\n",
       "    <tr>\n",
       "      <th>1</th>\n",
       "      <td>1</td>\n",
       "      <td>2020-08-25 01:00:00</td>\n",
       "      <td>27.633333</td>\n",
       "      <td>1.366667</td>\n",
       "      <td>75.333333</td>\n",
       "      <td>0.0</td>\n",
       "      <td>0.0</td>\n",
       "      <td>0.0</td>\n",
       "      <td>0.0</td>\n",
       "      <td>2020-08-25</td>\n",
       "      <td>8</td>\n",
       "      <td>25</td>\n",
       "      <td>1</td>\n",
       "      <td>1</td>\n",
       "      <td>0</td>\n",
       "    </tr>\n",
       "    <tr>\n",
       "      <th>2</th>\n",
       "      <td>1</td>\n",
       "      <td>2020-08-25 02:00:00</td>\n",
       "      <td>27.466667</td>\n",
       "      <td>1.233333</td>\n",
       "      <td>76.666667</td>\n",
       "      <td>0.0</td>\n",
       "      <td>0.0</td>\n",
       "      <td>0.0</td>\n",
       "      <td>0.0</td>\n",
       "      <td>2020-08-25</td>\n",
       "      <td>8</td>\n",
       "      <td>25</td>\n",
       "      <td>2</td>\n",
       "      <td>1</td>\n",
       "      <td>0</td>\n",
       "    </tr>\n",
       "    <tr>\n",
       "      <th>3</th>\n",
       "      <td>1</td>\n",
       "      <td>2020-08-25 03:00:00</td>\n",
       "      <td>27.300000</td>\n",
       "      <td>1.100000</td>\n",
       "      <td>78.000000</td>\n",
       "      <td>0.0</td>\n",
       "      <td>0.0</td>\n",
       "      <td>0.0</td>\n",
       "      <td>0.0</td>\n",
       "      <td>2020-08-25</td>\n",
       "      <td>8</td>\n",
       "      <td>25</td>\n",
       "      <td>3</td>\n",
       "      <td>1</td>\n",
       "      <td>0</td>\n",
       "    </tr>\n",
       "    <tr>\n",
       "      <th>4</th>\n",
       "      <td>1</td>\n",
       "      <td>2020-08-25 04:00:00</td>\n",
       "      <td>26.900000</td>\n",
       "      <td>1.166667</td>\n",
       "      <td>79.666667</td>\n",
       "      <td>0.0</td>\n",
       "      <td>0.0</td>\n",
       "      <td>0.0</td>\n",
       "      <td>0.0</td>\n",
       "      <td>2020-08-25</td>\n",
       "      <td>8</td>\n",
       "      <td>25</td>\n",
       "      <td>4</td>\n",
       "      <td>1</td>\n",
       "      <td>0</td>\n",
       "    </tr>\n",
       "  </tbody>\n",
       "</table>\n",
       "</div>"
      ],
      "text/plain": [
       "   num           date_time       temp  windspeed   humidity  precipitation  \\\n",
       "0    1 2020-08-25 00:00:00  27.800000   1.500000  74.000000            0.0   \n",
       "1    1 2020-08-25 01:00:00  27.633333   1.366667  75.333333            0.0   \n",
       "2    1 2020-08-25 02:00:00  27.466667   1.233333  76.666667            0.0   \n",
       "3    1 2020-08-25 03:00:00  27.300000   1.100000  78.000000            0.0   \n",
       "4    1 2020-08-25 04:00:00  26.900000   1.166667  79.666667            0.0   \n",
       "\n",
       "   sun  cooler  solar        date  month  day  hour  weekday  weekend  \n",
       "0  0.0     0.0    0.0  2020-08-25      8   25     0        1        0  \n",
       "1  0.0     0.0    0.0  2020-08-25      8   25     1        1        0  \n",
       "2  0.0     0.0    0.0  2020-08-25      8   25     2        1        0  \n",
       "3  0.0     0.0    0.0  2020-08-25      8   25     3        1        0  \n",
       "4  0.0     0.0    0.0  2020-08-25      8   25     4        1        0  "
      ]
     },
     "execution_count": 9,
     "metadata": {},
     "output_type": "execute_result"
    }
   ],
   "source": [
    "test[\"date_time\"] = pd.to_datetime(test[\"date_time\"])\n",
    "\n",
    "test[\"date\"] = test[\"date_time\"].dt.date # 전체 날짜\n",
    "test[\"month\"] = test[\"date_time\"].dt.month # 월\n",
    "test[\"day\"] = test[\"date_time\"].dt.day # 일\n",
    "test[\"hour\"] = test[\"date_time\"].dt.hour\n",
    "test[\"weekday\"] = test[\"date_time\"].dt.weekday # 0: 월요일\n",
    "test[\"weekend\"] = test[\"weekday\"].isin([5, 6]).astype(int) # 5: 토요일\n",
    "\n",
    "test.head()"
   ]
  },
  {
   "cell_type": "markdown",
   "id": "42657a57",
   "metadata": {},
   "source": [
    "---"
   ]
  },
  {
   "cell_type": "code",
   "execution_count": 10,
   "id": "2fe3a233",
   "metadata": {},
   "outputs": [],
   "source": [
    "train['THI'] = 1.8*train['temp'] - 0.55*(1-(train['humidity']/100))*(1.8*train['temp']-26) + 32\n",
    "test['THI'] = 1.8*test['temp'] - 0.55*(1-(test['humidity']/100))*(1.8*test['temp']-26) + 32\n",
    "\n",
    "train['sensible']=13.12+0.6215*train['temp']-13.947*train['windspeed']**0.16+0.486*train['temp']*train['windspeed']**0.1\n",
    "test['sensible']=13.12+0.6215*test['temp']-13.947*test['windspeed']**0.16+0.486*test['temp']*test['windspeed']**0.1"
   ]
  },
  {
   "cell_type": "markdown",
   "id": "e6ad3f53",
   "metadata": {},
   "source": [
    "---"
   ]
  },
  {
   "cell_type": "code",
   "execution_count": 11,
   "id": "02d35121",
   "metadata": {},
   "outputs": [],
   "source": [
    "from sklearn.cluster import KMeans\n",
    "import seaborn as sns\n",
    "from scipy.stats import spearmanr"
   ]
  },
  {
   "cell_type": "code",
   "execution_count": 12,
   "id": "112da512",
   "metadata": {},
   "outputs": [],
   "source": [
    "new_train = train.copy()\n",
    "new_test = test.copy()\n",
    "\n",
    "daily = train.groupby(['num','weekday'])['energy'].median().reset_index().pivot('num','weekday','energy').reset_index()\n",
    "hourly = train.groupby(['num','hour'])['energy'].median().reset_index().pivot('num','hour','energy').reset_index().drop('num',axis = 1)\n",
    "train_cluster = pd.concat([daily, hourly], axis= 1)\n",
    "\n",
    "for i in range(len(train_cluster)):\n",
    "    # 요일 별 전력 중앙값에 대해 scaling\n",
    "    train_cluster.iloc[i,1:8] = (train_cluster.iloc[i,1:8] - train_cluster.iloc[i,1:8].mean())/train_cluster.iloc[i,1:8].std()\n",
    "    # 시간대별 전력 중앙값에 대해 scaling\n",
    "    train_cluster.iloc[i,8:] = (train_cluster.iloc[i,8:] - train_cluster.iloc[i,8:].mean())/train_cluster.iloc[i,8:].std()\n",
    "\n",
    "kmeans = KMeans(n_clusters=4, random_state = 2)\n",
    "km_cluster = kmeans.fit_predict(train_cluster.iloc[:,1:])\n",
    "\n",
    "train_cluster['cluster'] = km_cluster\n",
    "train_cluster['cluster'] = train_cluster['cluster'].map({0:1, 1:3, 2:2, 3:0})\n",
    "\n",
    "new_train = new_train.merge(train_cluster[['num', 'cluster']], on = 'num', how = 'left')\n",
    "new_test = new_test.merge(train_cluster[['num', 'cluster']], on = 'num', how = 'left')"
   ]
  },
  {
   "cell_type": "code",
   "execution_count": 13,
   "id": "dfdbe46a",
   "metadata": {},
   "outputs": [
    {
     "data": {
      "image/png": "[encoded data removed]",
      "text/plain": [
       "<Figure size 1440x288 with 8 Axes>"
      ]
     },
     "metadata": {
      "needs_background": "light"
     },
     "output_type": "display_data"
    }
   ],
   "source": [
    "def draw_cluster(data):\n",
    "    fig = plt.figure(figsize = (20, 4))\n",
    "    for c in range(4):\n",
    "        temp = data[data.cluster == c]\n",
    "        temp = temp.groupby(['weekday', 'hour'])['energy'].median().reset_index().pivot('weekday', 'hour', 'energy')\n",
    "        plt.subplot(1, 5, c+1)\n",
    "        sns.heatmap(temp)\n",
    "        plt.title(f'cluster {c}')\n",
    "        plt.xlabel('')\n",
    "        plt.ylabel('')\n",
    "        \n",
    "draw_cluster(new_train)"
   ]
  },
  {
   "cell_type": "markdown",
   "id": "a2ddd295",
   "metadata": {},
   "source": [
    "---"
   ]
  },
  {
   "cell_type": "markdown",
   "id": "80958d3d",
   "metadata": {},
   "source": [
    "**Cluster의 전력사용량(kWh)과 기후 요소 상관관계**"
   ]
  },
  {
   "cell_type": "code",
   "execution_count": 14,
   "id": "151e4dde",
   "metadata": {},
   "outputs": [
    {
     "data": {
      "text/plain": [
       "numpy.int64"
      ]
     },
     "execution_count": 14,
     "metadata": {},
     "output_type": "execute_result"
    }
   ],
   "source": [
    "type(new_train['cluster'][0])"
   ]
  },
  {
   "cell_type": "code",
   "execution_count": 15,
   "id": "b698ca5d",
   "metadata": {},
   "outputs": [],
   "source": [
    "temp0 = new_train[new_train['cluster'] == 0][['energy','temp','windspeed','humidity','precipitation','sun']]\n",
    "temp1 = new_train[new_train['cluster'] == 1].drop('cluster', axis = 1)[['energy','temp','windspeed','humidity','precipitation','sun']]\n",
    "temp2 = new_train[new_train['cluster'] == 2].drop('cluster', axis = 1)[['energy','temp','windspeed','humidity','precipitation','sun']]\n",
    "temp3 = new_train[new_train['cluster'] == 3].drop('cluster', axis = 1)[['energy','temp','windspeed','humidity','precipitation','sun']]"
   ]
  },
  {
   "cell_type": "code",
   "execution_count": 16,
   "id": "e35e601d",
   "metadata": {},
   "outputs": [
    {
     "data": {
      "text/plain": [
       "energy           1.000000\n",
       "temp             0.206607\n",
       "windspeed        0.094077\n",
       "humidity        -0.098969\n",
       "precipitation    0.000018\n",
       "sun              0.165935\n",
       "dtype: float64"
      ]
     },
     "execution_count": 16,
     "metadata": {},
     "output_type": "execute_result"
    }
   ],
   "source": [
    "temp0.corrwith(temp0['energy'], method = 'spearman')"
   ]
  },
  {
   "cell_type": "code",
   "execution_count": 35,
   "id": "414b94ab",
   "metadata": {},
   "outputs": [
    {
     "data": {
      "text/plain": [
       "energy           1.000000\n",
       "temp             0.282354\n",
       "windspeed        0.375138\n",
       "humidity        -0.099573\n",
       "precipitation   -0.027321\n",
       "sun              0.302603\n",
       "dtype: float64"
      ]
     },
     "execution_count": 35,
     "metadata": {},
     "output_type": "execute_result"
    }
   ],
   "source": [
    "temp1.corrwith(temp1['energy'], method = 'spearman')"
   ]
  },
  {
   "cell_type": "code",
   "execution_count": 36,
   "id": "de0a9a6b",
   "metadata": {},
   "outputs": [
    {
     "data": {
      "text/plain": [
       "energy           1.000000\n",
       "temp             0.480547\n",
       "windspeed        0.056694\n",
       "humidity        -0.154517\n",
       "precipitation    0.015814\n",
       "sun              0.091813\n",
       "dtype: float64"
      ]
     },
     "execution_count": 36,
     "metadata": {},
     "output_type": "execute_result"
    }
   ],
   "source": [
    "temp2.corrwith(temp2['energy'], method = 'spearman')"
   ]
  },
  {
   "cell_type": "code",
   "execution_count": 19,
   "id": "18e535af",
   "metadata": {},
   "outputs": [
    {
     "data": {
      "text/plain": [
       "energy           1.000000\n",
       "temp             0.086846\n",
       "windspeed        0.241177\n",
       "humidity        -0.037969\n",
       "precipitation   -0.002331\n",
       "sun             -0.005307\n",
       "dtype: float64"
      ]
     },
     "execution_count": 19,
     "metadata": {},
     "output_type": "execute_result"
    }
   ],
   "source": [
    "temp3.corrwith(temp3['energy'], method = 'spearman')"
   ]
  },
  {
   "cell_type": "markdown",
   "id": "a39896e1",
   "metadata": {},
   "source": [
    "**요약**\n",
    "\n",
    "\n",
    "|항목|Cluster 0|Cluster 1|Cluster 2|Cluster 3|\n",
    "|:---:|:---:|:---:|:---:|:---:|\n",
    "|기온(°C)|**0.21**|**0.28**|**0.48**|0.09|\n",
    "|풍속(m/s)|0.09|**0.38**|0.06|**0.24**|\n",
    "|습도(%)|-0.10|-0.10|-0.15|-0.04|\n",
    "|강수량(mm)|0.00|-0.03|0.02|-0.00|\n",
    "|일조(hr)|0.17|**0.30**|0.09|0.01|"
   ]
  },
  {
   "cell_type": "markdown",
   "id": "57bb8cff",
   "metadata": {},
   "source": [
    "---"
   ]
  },
  {
   "cell_type": "code",
   "execution_count": 32,
   "id": "cd128d6a",
   "metadata": {},
   "outputs": [
    {
     "data": {
      "image/png": "[encoded data removed]",
      "text/plain": [
       "<Figure size 1440x576 with 8 Axes>"
      ]
     },
     "metadata": {},
     "output_type": "display_data"
    }
   ],
   "source": [
    "corrs4 = []\n",
    "for c in range(4):\n",
    "    data = new_train[new_train['cluster'] == c]\n",
    "    nums = data['num'].unique()\n",
    "    data = data.groupby(['num', 'date'])[['energy','temp','windspeed','humidity','precipitation','sun']].mean().reset_index()\n",
    "    \n",
    "    corrs = []\n",
    "    for num in nums:\n",
    "        corr = []\n",
    "        corr.append(num)\n",
    "        for col in ['temp','windspeed','humidity','precipitation','sun']:\n",
    "            corr.append(spearmanr(data.loc[data.num == num, col], data.loc[data.num == num, 'energy']).correlation)\n",
    "        corrs.append(corr)\n",
    "    corrs4.append(corrs)\n",
    "\n",
    "\n",
    "fig = plt.figure(figsize = (20, 8), constrained_layout=True)\n",
    "for i, corrs in enumerate(corrs4):\n",
    "    data = pd.DataFrame(np.array(corrs), columns = ['num','temp','windspeed','humidity','precipitation','sun'])\n",
    "    data['num'] = data['num'].astype(int)\n",
    "    data = data.set_index('num')\n",
    "\n",
    "    sns.set(font_scale = 1.5)\n",
    "    plt.subplot(2, 2, i+1)\n",
    "    sns.heatmap(data.transpose(), cmap = sns.diverging_palette(240, 10, as_cmap=True))\n",
    "    plt.title(f'Cluster {i}')"
   ]
  },
  {
   "cell_type": "code",
   "execution_count": null,
   "id": "153516cd",
   "metadata": {},
   "outputs": [],
   "source": []
  }
 ],
 "metadata": {
  "kernelspec": {
   "display_name": "Python 3 (ipykernel)",
   "language": "python",
   "name": "python3"
  },
  "language_info": {
   "codemirror_mode": {
    "name": "ipython",
    "version": 3
   },
   "file_extension": ".py",
   "mimetype": "text/x-python",
   "name": "python",
   "nbconvert_exporter": "python",
   "pygments_lexer": "ipython3",
   "version": "3.9.7"
  },
  "toc": {
   "base_numbering": 1,
   "nav_menu": {},
   "number_sections": true,
   "sideBar": true,
   "skip_h1_title": false,
   "title_cell": "Table of Contents",
   "title_sidebar": "Contents",
   "toc_cell": false,
   "toc_position": {},
   "toc_section_display": true,
   "toc_window_display": false
  },
  "varInspector": {
   "cols": {
    "lenName": 16,
    "lenType": 16,
    "lenVar": 40
   },
   "kernels_config": {
    "python": {
     "delete_cmd_postfix": "",
     "delete_cmd_prefix": "del ",
     "library": "var_list.py",
     "varRefreshCmd": "print(var_dic_list())"
    },
    "r": {
     "delete_cmd_postfix": ") ",
     "delete_cmd_prefix": "rm(",
     "library": "var_list.r",
     "varRefreshCmd": "cat(var_dic_list()) "
    }
   },
   "types_to_exclude": [
    "module",
    "function",
    "builtin_function_or_method",
    "instance",
    "_Feature"
   ],
   "window_display": false
  }
 },
 "nbformat": 4,
 "nbformat_minor": 5
}
